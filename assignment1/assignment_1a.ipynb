{
 "cells": [
  {
   "cell_type": "code",
   "execution_count": 1,
   "id": "19f4216f",
   "metadata": {},
   "outputs": [
    {
     "name": "stdout",
     "output_type": "stream",
     "text": [
      "case1\n",
      "A = [[ 3  2 -1]\n",
      " [ 6 -1  3]\n",
      " [ 1 10 -2]] b = [[-7 -4  2]]\n",
      " 𝐀x = 𝐛 is consistent.\n",
      "The linear system Ax=b has only one solution.\n",
      "The solution is  [[-2.]\n",
      " [ 1.]\n",
      " [ 3.]]\n",
      "\n",
      "case2\n",
      "A = [[ 4 -1  3]\n",
      " [21 -4 18]\n",
      " [-9  1 -9]] b = [[ 5  7 -8]]\n",
      "The linear system Ax=b has no solutions.\n",
      "\n",
      "case3\n",
      "A = [[ 7 -4  1]\n",
      " [ 3  2 -1]\n",
      " [ 5 12 -5]] b = [[-15  -5  -5]]\n",
      " 𝐀x = 𝐛 is consistent.\n",
      "The linear system Ax=b has infinitely many solutions.\n",
      "\n"
     ]
    }
   ],
   "source": [
    "import numpy as np\n",
    "\n",
    "def solve_linear_equation(A, b):\n",
    "    # enter your code here, and remove the following line (30%)\n",
    "    rankA = np.linalg.matrix_rank(A)\n",
    "    arrayAb = np.hstack((A,b))\n",
    "    rankAb = np.linalg.matrix_rank(arrayAb)\n",
    "    columnA =  A.shape[1]\n",
    "    if rankA == rankAb:\n",
    "        print(' 𝐀x = 𝐛 is consistent.')\n",
    "    if rankA == rankAb and rankA == columnA:\n",
    "        return 1\n",
    "    if rankA == rankAb and rankA < columnA:\n",
    "        return 0\n",
    "    if rankA < rankAb:\n",
    "        return -1\n",
    "    return 0\n",
    "\n",
    "def flag_to_message(flag):\n",
    "   if flag == 1:\n",
    "     print('The linear system Ax=b has only one solution.')\n",
    "   elif flag == 0:\n",
    "     print('The linear system Ax=b has infinitely many solutions.')\n",
    "   elif flag == -1:\n",
    "     print('The linear system Ax=b has no solutions.')\n",
    "   else:\n",
    "     print('Unknown flag!')\n",
    "\n",
    "def get_input_data(input_id):\n",
    "   if input_id == 'case1': \n",
    "     A = np.array([[3, 2, -1], [6, -1, 3], [1, 10, -2]])\n",
    "     b = np.array([[-7], [-4], [2]])\n",
    "   elif input_id == 'case2':\n",
    "     A = np.array([[4, -1, 3], [21, -4, 18], [-9, 1, -9]])\n",
    "     b = np.array([[5], [7], [-8]])\n",
    "   elif input_id == 'case3':\n",
    "     A = np.array([[7, -4, 1], [3, 2, -1], [5, 12, -5]])\n",
    "     b = np.array([[-15], [-5], [-5]])\n",
    "   return A, b\n",
    "\n",
    "if __name__ == '__main__':\n",
    "   for case in ['case1', 'case2', 'case3']:\n",
    "     A, b = get_input_data(case)\n",
    "     print(case)\n",
    "     print('A =', A, 'b =', b.T)\n",
    "     flag = solve_linear_equation(A, b)\n",
    "     flag_to_message(flag)\n",
    "     if flag == 1:\n",
    "        print('The solution is ', np.linalg.solve(A, b))\n",
    "     print()"
   ]
  },
  {
   "cell_type": "code",
   "execution_count": null,
   "id": "23da5cc4",
   "metadata": {},
   "outputs": [],
   "source": [
    "# Can we use np.linalg.solve() to determine whether 𝐀𝐱=𝐛 is consistent? Explain the reason for your answer. (5%)\n",
    "# Write down your answer here.\n",
    "\n",
    "# Answer:我認為是不行的，因為np.linalg.solve()只能在A矩陣為方陣時才可使用，若A為非方陣會出現error，\n",
    "# 所以此function無法決定𝐀𝐱=𝐛是否consistent，還有np.linalg.solve()若A為不可逆矩陣時也會出現錯誤，但\n",
    "# 不可逆矩陣不代表Ax=b就是無解，所以無法只利用np.linalg.solve()這個function來判斷。"
   ]
  },
  {
   "cell_type": "code",
   "execution_count": null,
   "id": "0377f889",
   "metadata": {},
   "outputs": [],
   "source": [
    "# Given matrix 𝐀 of dimension (m,n). If rank(𝐀)=𝑛, can we infer that 𝐀𝐱=𝐛 is consistent? Explain the reason for your answer. (5%)\n",
    "# Write down your answer here.\n",
    "\n",
    "# Answer：我認為是可以的，rank(𝐀)=n表示A矩陣式可逆的，存在A的反矩陣，以下為證明。\n",
    "# 證明：(A-1)表示為A的反矩陣。Ax=b ⟹ (A−1)Ax=(A−1)b ⟹ x=(A−1)b，得x有唯一解，表示𝐀𝐱=𝐛 is consistent。"
   ]
  }
 ],
 "metadata": {
  "kernelspec": {
   "display_name": "Python 3 (ipykernel)",
   "language": "python",
   "name": "python3"
  },
  "language_info": {
   "codemirror_mode": {
    "name": "ipython",
    "version": 3
   },
   "file_extension": ".py",
   "mimetype": "text/x-python",
   "name": "python",
   "nbconvert_exporter": "python",
   "pygments_lexer": "ipython3",
   "version": "3.9.16"
  }
 },
 "nbformat": 4,
 "nbformat_minor": 5
}
